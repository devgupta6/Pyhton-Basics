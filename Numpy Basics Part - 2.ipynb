{
 "cells": [
  {
   "cell_type": "markdown",
   "id": "7a85ee86",
   "metadata": {},
   "source": [
    "## Numpy Random Module\n",
    "- rand : Random Values in a given shape\n",
    "- randn : Return a sample (or samples) from the \"standard normal\" distribution\n",
    "- randint : Return random integers from low (inclusive) to high (exclusive)\n",
    "- random : Return random floats in the half-open interval [0.0, 1.0]\n",
    "- choice : Generates a random sample from a given 1-D array\n",
    "- Shuffle : Shuffles the contents of a sequence"
   ]
  },
  {
   "cell_type": "code",
   "execution_count": 1,
   "id": "6f6c26f3",
   "metadata": {},
   "outputs": [
    {
     "name": "stdout",
     "output_type": "stream",
     "text": [
      "[ 5  6  7  8  9 10 11 12 13 14]\n"
     ]
    }
   ],
   "source": [
    "# Arange Method\n",
    "import numpy as np\n",
    "a = np.arange(10) + 5\n",
    "print(a)"
   ]
  },
  {
   "cell_type": "code",
   "execution_count": 2,
   "id": "1bba756c",
   "metadata": {},
   "outputs": [
    {
     "name": "stdout",
     "output_type": "stream",
     "text": [
      "[10 14 11  6  7 12  5  9 13  8]\n"
     ]
    }
   ],
   "source": [
    "np.random.shuffle(a)  # everytime we run this we get a different output\n",
    "print(a)"
   ]
  },
  {
   "cell_type": "code",
   "execution_count": 3,
   "id": "537666a4",
   "metadata": {},
   "outputs": [
    {
     "name": "stdout",
     "output_type": "stream",
     "text": [
      "[[0.45575375 0.68309121 0.6298359 ]\n",
      " [0.2297297  0.77597355 0.22684927]]\n"
     ]
    }
   ],
   "source": [
    "# printing a random array\n",
    "a = np.random.rand(2,3)\n",
    "print(a)"
   ]
  },
  {
   "cell_type": "code",
   "execution_count": 10,
   "id": "9e48e8d7",
   "metadata": {},
   "outputs": [
    {
     "name": "stdout",
     "output_type": "stream",
     "text": [
      "[[-0.3290856   0.14240151 -0.43625553]\n",
      " [-1.21495583 -0.62398519 -0.58856564]]\n",
      "[6 7 8]\n",
      "3\n"
     ]
    }
   ],
   "source": [
    "# This returns values from a Standard Normal Distribution\n",
    "a = np.random.randn(2,3)\n",
    "print(a)\n",
    "\n",
    "# It gives 3 numbers btw 5 and 10\n",
    "a = np.random.randint(5,10,3)\n",
    "print(a)\n",
    "\n",
    "# Randomly pick one element from an array\n",
    "element = np.random.choice([1,4,3,2,11,27])\n",
    "print(element)"
   ]
  }
 ],
 "metadata": {
  "kernelspec": {
   "display_name": "Python 3",
   "language": "python",
   "name": "python3"
  },
  "language_info": {
   "codemirror_mode": {
    "name": "ipython",
    "version": 3
   },
   "file_extension": ".py",
   "mimetype": "text/x-python",
   "name": "python",
   "nbconvert_exporter": "python",
   "pygments_lexer": "ipython3",
   "version": "3.6.13"
  }
 },
 "nbformat": 4,
 "nbformat_minor": 5
}
