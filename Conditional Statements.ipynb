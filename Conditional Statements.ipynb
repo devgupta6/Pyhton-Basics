{
 "cells": [
  {
   "cell_type": "markdown",
   "metadata": {},
   "source": [
    "### Conditional Statementa"
   ]
  },
  {
   "cell_type": "code",
   "execution_count": 1,
   "metadata": {},
   "outputs": [
    {
     "name": "stdout",
     "output_type": "stream",
     "text": [
      "positive\n"
     ]
    }
   ],
   "source": [
    "a = 5\n",
    "\n",
    "if a > 0: \n",
    "    print(\"positive\")\n",
    "\n",
    "else:\n",
    "    print(\"negative\")"
   ]
  },
  {
   "cell_type": "code",
   "execution_count": 2,
   "metadata": {},
   "outputs": [
    {
     "name": "stdout",
     "output_type": "stream",
     "text": [
      "negative\n"
     ]
    }
   ],
   "source": [
    "a = -5\n",
    "\n",
    "if a > 0: \n",
    "    print(\"positive\")\n",
    "\n",
    "else:\n",
    "    print(\"negative\")"
   ]
  },
  {
   "cell_type": "code",
   "execution_count": 3,
   "metadata": {},
   "outputs": [
    {
     "name": "stdout",
     "output_type": "stream",
     "text": [
      "zero\n"
     ]
    }
   ],
   "source": [
    "a = 0 \n",
    "\n",
    "if a > 0:\n",
    "    print(\"positive\")\n",
    "    \n",
    "elif a == 0:\n",
    "    print(\"zero\")\n",
    "    \n",
    "else:\n",
    "    print(\"negative\")"
   ]
  },
  {
   "cell_type": "markdown",
   "metadata": {},
   "source": [
    "### Nested if else"
   ]
  },
  {
   "cell_type": "code",
   "execution_count": 4,
   "metadata": {},
   "outputs": [
    {
     "name": "stdout",
     "output_type": "stream",
     "text": [
      "positive\n",
      "Divisible by 5\n"
     ]
    }
   ],
   "source": [
    "a = 20\n",
    "\n",
    "if a > 0:\n",
    "    print(\"positive\")\n",
    "    \n",
    "    if a % 5 == 0:\n",
    "        print(\"Divisible by 5\")\n",
    "    else:\n",
    "        print(\"Negative\")"
   ]
  },
  {
   "cell_type": "markdown",
   "metadata": {},
   "source": [
    "### Write a program to input an integer from user and print:\n",
    "    -1 if integer is negative\n",
    "    0 if integer is zero\n",
    "    1 if integer is positive "
   ]
  },
  {
   "cell_type": "code",
   "execution_count": 7,
   "metadata": {},
   "outputs": [
    {
     "name": "stdout",
     "output_type": "stream",
     "text": [
      "Enter the integer3\n",
      "1\n"
     ]
    }
   ],
   "source": [
    "num = input(\"Enter the integer\")\n",
    "num = int(num)\n",
    "\n",
    "if num > 0:\n",
    "    print('1')\n",
    "    \n",
    "elif num == 0:\n",
    "    print('0')\n",
    "        \n",
    "else:\n",
    "    print('-1') "
   ]
  },
  {
   "cell_type": "code",
   "execution_count": null,
   "metadata": {},
   "outputs": [],
   "source": []
  }
 ],
 "metadata": {
  "kernelspec": {
   "display_name": "Python 3",
   "language": "python",
   "name": "python3"
  },
  "language_info": {
   "codemirror_mode": {
    "name": "ipython",
    "version": 3
   },
   "file_extension": ".py",
   "mimetype": "text/x-python",
   "name": "python",
   "nbconvert_exporter": "python",
   "pygments_lexer": "ipython3",
   "version": "3.6.11"
  }
 },
 "nbformat": 4,
 "nbformat_minor": 4
}
