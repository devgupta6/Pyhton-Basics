{
 "cells": [
  {
   "cell_type": "markdown",
   "id": "b9930d2c",
   "metadata": {},
   "source": [
    "## Numpy Functions - Statistics\n",
    "- min, max\n",
    "- mean\n",
    "- median\n",
    "- average\n",
    "- variance\n",
    "- standard deviation"
   ]
  },
  {
   "cell_type": "code",
   "execution_count": 6,
   "id": "acd1e5ae",
   "metadata": {},
   "outputs": [
    {
     "name": "stdout",
     "output_type": "stream",
     "text": [
      "[[1 2 3 4]\n",
      " [7 6 2 0]]\n",
      "0\n",
      "[1 2 2 0]\n",
      "[1 0]\n"
     ]
    }
   ],
   "source": [
    "import numpy as np\n",
    "a = np.array([[1,2,3,4],[7,6,2,0]])\n",
    "print(a)\n",
    "print(np.min(a))\n",
    "# Specify axis for the dirrection in case of multidimensional array.\n",
    "print(np.min(a, axis = 0))\n",
    "print(np.min(a, axis = 1))"
   ]
  },
  {
   "cell_type": "code",
   "execution_count": 10,
   "id": "cacf3acb",
   "metadata": {},
   "outputs": [
    {
     "name": "stdout",
     "output_type": "stream",
     "text": [
      "3.0\n",
      "3.0\n",
      "[4.  4.  2.5 2. ]\n",
      "[2.5  3.75]\n"
     ]
    }
   ],
   "source": [
    "# Mean, average all the elements\n",
    "b = np.array([1,2,3,4,5])\n",
    "m = sum(b)/5\n",
    "print(m)\n",
    "# or you can write as\n",
    "print(np.mean(b))\n",
    "print(np.mean(a, axis = 0))\n",
    "print(np.mean(a, axis = 1))"
   ]
  },
  {
   "cell_type": "code",
   "execution_count": 13,
   "id": "eace0049",
   "metadata": {},
   "outputs": [
    {
     "name": "stdout",
     "output_type": "stream",
     "text": [
      "2.0\n",
      "2.4\n",
      "2.066666666666667\n"
     ]
    }
   ],
   "source": [
    "c = np.array([1,5,4,2,0])\n",
    "print(np.median(c))\n",
    "\n",
    "# Mean vs average is weighted\n",
    "print(np.mean(c))\n",
    "\n",
    "# Weights\n",
    "w = np.array([1,2,3,4,5])\n",
    "print(np.average(c, weights = w))"
   ]
  },
  {
   "cell_type": "code",
   "execution_count": 18,
   "id": "e9bd43dd",
   "metadata": {},
   "outputs": [
    {
     "name": "stdout",
     "output_type": "stream",
     "text": [
      "3.440000000000001\n",
      "3.4400000000000004\n"
     ]
    }
   ],
   "source": [
    "# Variance\n",
    "print(myStd**2)\n",
    "# or\n",
    "print(np.var(c))"
   ]
  },
  {
   "cell_type": "code",
   "execution_count": null,
   "id": "0f2f75ca",
   "metadata": {},
   "outputs": [],
   "source": []
  }
 ],
 "metadata": {
  "kernelspec": {
   "display_name": "Python 3",
   "language": "python",
   "name": "python3"
  },
  "language_info": {
   "codemirror_mode": {
    "name": "ipython",
    "version": 3
   },
   "file_extension": ".py",
   "mimetype": "text/x-python",
   "name": "python",
   "nbconvert_exporter": "python",
   "pygments_lexer": "ipython3",
   "version": "3.6.13"
  }
 },
 "nbformat": 4,
 "nbformat_minor": 5
}
