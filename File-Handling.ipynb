{
 "cells": [
  {
   "cell_type": "markdown",
   "id": "weekly-absolute",
   "metadata": {},
   "source": [
    "## 1. Text Files\n",
    "\n",
    "#### Opening  a file"
   ]
  },
  {
   "cell_type": "code",
   "execution_count": 23,
   "id": "known-chrome",
   "metadata": {},
   "outputs": [],
   "source": [
    "file = open(\"hello.txt\", \"r\")"
   ]
  },
  {
   "cell_type": "code",
   "execution_count": 24,
   "id": "weekly-boring",
   "metadata": {
    "scrolled": true
   },
   "outputs": [
    {
     "data": {
      "text/plain": [
       "'Hello World !'"
      ]
     },
     "execution_count": 24,
     "metadata": {},
     "output_type": "execute_result"
    }
   ],
   "source": [
    "file.read()"
   ]
  },
  {
   "cell_type": "markdown",
   "id": "filled-detective",
   "metadata": {},
   "source": [
    "### Closing a file"
   ]
  },
  {
   "cell_type": "code",
   "execution_count": 26,
   "id": "cloudy-aurora",
   "metadata": {},
   "outputs": [],
   "source": [
    "file.close()"
   ]
  },
  {
   "cell_type": "markdown",
   "id": "surface-neighbor",
   "metadata": {},
   "source": [
    "### Writing to a file\n",
    "\n",
    "- write\n",
    "- write lines"
   ]
  },
  {
   "cell_type": "code",
   "execution_count": 34,
   "id": "polar-holiday",
   "metadata": {},
   "outputs": [],
   "source": [
    "file = open(\"something.txt\", \"w\")"
   ]
  },
  {
   "cell_type": "code",
   "execution_count": 35,
   "id": "patient-canvas",
   "metadata": {},
   "outputs": [
    {
     "data": {
      "text/plain": [
       "14"
      ]
     },
     "execution_count": 35,
     "metadata": {},
     "output_type": "execute_result"
    }
   ],
   "source": [
    "file.write(\"hi how are you\") #returns us the integer which means the number of bytes written to this file"
   ]
  },
  {
   "cell_type": "code",
   "execution_count": 36,
   "id": "inappropriate-opportunity",
   "metadata": {},
   "outputs": [],
   "source": [
    "file.close()"
   ]
  },
  {
   "cell_type": "markdown",
   "id": "completed-growth",
   "metadata": {},
   "source": [
    "## Reading from a file\n",
    "\n",
    "* read\n",
    "* readline\n",
    "- readlines"
   ]
  },
  {
   "cell_type": "code",
   "execution_count": 58,
   "id": "empty-rendering",
   "metadata": {},
   "outputs": [],
   "source": [
    "file = open(\"hello.txt\", \"r\")"
   ]
  },
  {
   "cell_type": "code",
   "execution_count": 59,
   "id": "involved-concrete",
   "metadata": {},
   "outputs": [
    {
     "data": {
      "text/plain": [
       "['Hello\\n', 'hello again\\n', 'hello once again']"
      ]
     },
     "execution_count": 59,
     "metadata": {},
     "output_type": "execute_result"
    }
   ],
   "source": [
    "file.readlines() #it will display the list of all the lines in a file"
   ]
  },
  {
   "cell_type": "code",
   "execution_count": 60,
   "id": "spread-trinidad",
   "metadata": {},
   "outputs": [],
   "source": [
    "file.close()"
   ]
  },
  {
   "cell_type": "markdown",
   "id": "cognitive-heater",
   "metadata": {},
   "source": [
    "### Moving the cursor\n",
    "- seek(n) : takes the file handle to the nth byte from the beginning"
   ]
  },
  {
   "cell_type": "code",
   "execution_count": 61,
   "id": "elementary-copper",
   "metadata": {},
   "outputs": [],
   "source": [
    "file = open(\"hello.txt\", \"r\")"
   ]
  },
  {
   "cell_type": "code",
   "execution_count": null,
   "id": "brave-helicopter",
   "metadata": {},
   "outputs": [],
   "source": [
    "file.read"
   ]
  }
 ],
 "metadata": {
  "kernelspec": {
   "display_name": "Python 3",
   "language": "python",
   "name": "python3"
  },
  "language_info": {
   "codemirror_mode": {
    "name": "ipython",
    "version": 3
   },
   "file_extension": ".py",
   "mimetype": "text/x-python",
   "name": "python",
   "nbconvert_exporter": "python",
   "pygments_lexer": "ipython3",
   "version": "3.6.13"
  }
 },
 "nbformat": 4,
 "nbformat_minor": 5
}
