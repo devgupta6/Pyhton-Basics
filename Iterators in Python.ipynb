{
 "cells": [
  {
   "cell_type": "code",
   "execution_count": 1,
   "id": "ecc93c4c",
   "metadata": {},
   "outputs": [],
   "source": [
    "x = [1, 2, 3]"
   ]
  },
  {
   "cell_type": "code",
   "execution_count": 2,
   "id": "ff282886",
   "metadata": {},
   "outputs": [],
   "source": [
    "x_iter = iter(x)"
   ]
  },
  {
   "cell_type": "code",
   "execution_count": 3,
   "id": "a4573f52",
   "metadata": {},
   "outputs": [
    {
     "data": {
      "text/plain": [
       "<list_iterator at 0x7fcc1819ee10>"
      ]
     },
     "execution_count": 3,
     "metadata": {},
     "output_type": "execute_result"
    }
   ],
   "source": [
    "x_iter"
   ]
  },
  {
   "cell_type": "code",
   "execution_count": 4,
   "id": "8858f432",
   "metadata": {},
   "outputs": [
    {
     "data": {
      "text/plain": [
       "1"
      ]
     },
     "execution_count": 4,
     "metadata": {},
     "output_type": "execute_result"
    }
   ],
   "source": [
    "next(x_iter)"
   ]
  },
  {
   "cell_type": "code",
   "execution_count": 5,
   "id": "6d0cd755",
   "metadata": {},
   "outputs": [
    {
     "data": {
      "text/plain": [
       "2"
      ]
     },
     "execution_count": 5,
     "metadata": {},
     "output_type": "execute_result"
    }
   ],
   "source": [
    "next(x_iter)"
   ]
  },
  {
   "cell_type": "code",
   "execution_count": 6,
   "id": "e9f03c6a",
   "metadata": {},
   "outputs": [
    {
     "data": {
      "text/plain": [
       "3"
      ]
     },
     "execution_count": 6,
     "metadata": {},
     "output_type": "execute_result"
    }
   ],
   "source": [
    "next(x_iter)"
   ]
  },
  {
   "cell_type": "code",
   "execution_count": 8,
   "id": "fe970cd2",
   "metadata": {},
   "outputs": [
    {
     "ename": "StopIteration",
     "evalue": "",
     "output_type": "error",
     "traceback": [
      "\u001b[0;31m---------------------------------------------------------------------------\u001b[0m",
      "\u001b[0;31mStopIteration\u001b[0m                             Traceback (most recent call last)",
      "\u001b[0;32m<ipython-input-8-ae847f206c4f>\u001b[0m in \u001b[0;36m<module>\u001b[0;34m\u001b[0m\n\u001b[0;32m----> 1\u001b[0;31m \u001b[0mnext\u001b[0m\u001b[0;34m(\u001b[0m\u001b[0mx_iter\u001b[0m\u001b[0;34m)\u001b[0m \u001b[0;31m#it will raise stopietration error\u001b[0m\u001b[0;34m\u001b[0m\u001b[0;34m\u001b[0m\u001b[0m\n\u001b[0m",
      "\u001b[0;31mStopIteration\u001b[0m: "
     ]
    }
   ],
   "source": [
    "next(x_iter) #it will raise stopietration error"
   ]
  },
  {
   "cell_type": "code",
   "execution_count": 4,
   "id": "22b91cc8",
   "metadata": {},
   "outputs": [],
   "source": [
    "class yrange:\n",
    "    # n is the number upto which I want the range\n",
    "    def __init__ (self, n):\n",
    "        self.i = 0\n",
    "        self.n = n\n",
    "        \n",
    "    # this method makes our class iterable \n",
    "    def __iter__ (self):\n",
    "        return self\n",
    "    \n",
    "    # this method should be implemented by the ITERAtion\n",
    "    def __next__ (self):\n",
    "        if self.i < self.n:\n",
    "            i = self.i\n",
    "            self.i += 1\n",
    "            return i\n",
    "        else:\n",
    "            raise StopIteration()"
   ]
  },
  {
   "cell_type": "code",
   "execution_count": 5,
   "id": "1f752274",
   "metadata": {},
   "outputs": [
    {
     "name": "stdout",
     "output_type": "stream",
     "text": [
      "0\n",
      "1\n",
      "2\n",
      "3\n",
      "4\n"
     ]
    }
   ],
   "source": [
    "for x in yrange(5):\n",
    "    print(x)"
   ]
  },
  {
   "cell_type": "code",
   "execution_count": 6,
   "id": "8c1c52f6",
   "metadata": {},
   "outputs": [],
   "source": [
    "y = yrange(5)"
   ]
  },
  {
   "cell_type": "code",
   "execution_count": 7,
   "id": "29094fbf",
   "metadata": {},
   "outputs": [],
   "source": [
    "y_iter = iter(y)"
   ]
  },
  {
   "cell_type": "code",
   "execution_count": 8,
   "id": "a3742153",
   "metadata": {},
   "outputs": [
    {
     "data": {
      "text/plain": [
       "<__main__.yrange at 0x7f2ca4548a20>"
      ]
     },
     "execution_count": 8,
     "metadata": {},
     "output_type": "execute_result"
    }
   ],
   "source": [
    "y_iter"
   ]
  },
  {
   "cell_type": "code",
   "execution_count": 9,
   "id": "2ddd1c56",
   "metadata": {},
   "outputs": [
    {
     "data": {
      "text/plain": [
       "0"
      ]
     },
     "execution_count": 9,
     "metadata": {},
     "output_type": "execute_result"
    }
   ],
   "source": [
    "next(y_iter)"
   ]
  },
  {
   "cell_type": "code",
   "execution_count": 10,
   "id": "8f7bca7b",
   "metadata": {},
   "outputs": [
    {
     "data": {
      "text/plain": [
       "1"
      ]
     },
     "execution_count": 10,
     "metadata": {},
     "output_type": "execute_result"
    }
   ],
   "source": [
    "next(y_iter)"
   ]
  },
  {
   "cell_type": "code",
   "execution_count": 11,
   "id": "afd8e9ad",
   "metadata": {},
   "outputs": [
    {
     "data": {
      "text/plain": [
       "2"
      ]
     },
     "execution_count": 11,
     "metadata": {},
     "output_type": "execute_result"
    }
   ],
   "source": [
    "next(y_iter)"
   ]
  },
  {
   "cell_type": "code",
   "execution_count": 12,
   "id": "6aabc63a",
   "metadata": {},
   "outputs": [
    {
     "data": {
      "text/plain": [
       "3"
      ]
     },
     "execution_count": 12,
     "metadata": {},
     "output_type": "execute_result"
    }
   ],
   "source": [
    "next(y_iter)"
   ]
  },
  {
   "cell_type": "code",
   "execution_count": 13,
   "id": "9aa6923d",
   "metadata": {},
   "outputs": [
    {
     "data": {
      "text/plain": [
       "4"
      ]
     },
     "execution_count": 13,
     "metadata": {},
     "output_type": "execute_result"
    }
   ],
   "source": [
    "next(y_iter)"
   ]
  },
  {
   "cell_type": "code",
   "execution_count": 14,
   "id": "8ac89bab",
   "metadata": {},
   "outputs": [
    {
     "ename": "StopIteration",
     "evalue": "",
     "output_type": "error",
     "traceback": [
      "\u001b[0;31m---------------------------------------------------------------------------\u001b[0m",
      "\u001b[0;31mStopIteration\u001b[0m                             Traceback (most recent call last)",
      "\u001b[0;32m<ipython-input-14-d016b2c14733>\u001b[0m in \u001b[0;36m<module>\u001b[0;34m\u001b[0m\n\u001b[0;32m----> 1\u001b[0;31m \u001b[0mnext\u001b[0m\u001b[0;34m(\u001b[0m\u001b[0my_iter\u001b[0m\u001b[0;34m)\u001b[0m\u001b[0;34m\u001b[0m\u001b[0;34m\u001b[0m\u001b[0m\n\u001b[0m",
      "\u001b[0;32m<ipython-input-4-70801aff0bc2>\u001b[0m in \u001b[0;36m__next__\u001b[0;34m(self)\u001b[0m\n\u001b[1;32m     16\u001b[0m             \u001b[0;32mreturn\u001b[0m \u001b[0mi\u001b[0m\u001b[0;34m\u001b[0m\u001b[0;34m\u001b[0m\u001b[0m\n\u001b[1;32m     17\u001b[0m         \u001b[0;32melse\u001b[0m\u001b[0;34m:\u001b[0m\u001b[0;34m\u001b[0m\u001b[0;34m\u001b[0m\u001b[0m\n\u001b[0;32m---> 18\u001b[0;31m             \u001b[0;32mraise\u001b[0m \u001b[0mStopIteration\u001b[0m\u001b[0;34m(\u001b[0m\u001b[0;34m)\u001b[0m\u001b[0;34m\u001b[0m\u001b[0;34m\u001b[0m\u001b[0m\n\u001b[0m",
      "\u001b[0;31mStopIteration\u001b[0m: "
     ]
    }
   ],
   "source": [
    "next(y_iter)"
   ]
  },
  {
   "cell_type": "code",
   "execution_count": 15,
   "id": "be314a46",
   "metadata": {},
   "outputs": [],
   "source": [
    "# this is an iterable class\n",
    "class zrange:\n",
    "    def __init__(self,n):\n",
    "        self.n = n\n",
    "        \n",
    "    def __iter__(self):\n",
    "        return zrange_iter(self.n)\n",
    "\n",
    "# this is an iterator class\n",
    "class zrange_iter:\n",
    "    def __init__ (self,n):\n",
    "        self.i = 0\n",
    "        self.n = n\n",
    "        \n",
    "    def __iter__(self):\n",
    "        return self\n",
    "    \n",
    "    def __next__(self):\n",
    "        if self.i < self.n:\n",
    "            i = self.i\n",
    "            self.i += 1\n",
    "            return i\n",
    "        else:\n",
    "            raise StopIteration()"
   ]
  },
  {
   "cell_type": "code",
   "execution_count": 22,
   "id": "5c2b93b9",
   "metadata": {},
   "outputs": [
    {
     "name": "stdout",
     "output_type": "stream",
     "text": [
      "0\n",
      "1\n",
      "4\n",
      "9\n",
      "16\n"
     ]
    }
   ],
   "source": [
    "for x in range(5):\n",
    "    print (x**2)"
   ]
  },
  {
   "cell_type": "markdown",
   "id": "6d9632a7",
   "metadata": {},
   "source": [
    "## Generators\n",
    "    ~ Simple functions or expressions used to create iterator"
   ]
  },
  {
   "cell_type": "code",
   "execution_count": 36,
   "id": "417c96ce",
   "metadata": {},
   "outputs": [],
   "source": [
    "class fib:\n",
    "    def __init__ (self):\n",
    "        self.prev = 0\n",
    "        self.curr = 1\n",
    "    \n",
    "    def __iter__ (self):\n",
    "        return self\n",
    "    \n",
    "    def __next__ (self):\n",
    "        value = self.curr\n",
    "        self.curr += self.prev\n",
    "        self.prev = value\n",
    "        return value"
   ]
  },
  {
   "cell_type": "code",
   "execution_count": 37,
   "id": "18d88343",
   "metadata": {},
   "outputs": [],
   "source": [
    "f = iter(fib())"
   ]
  },
  {
   "cell_type": "code",
   "execution_count": 46,
   "id": "4427967f",
   "metadata": {},
   "outputs": [
    {
     "data": {
      "text/plain": [
       "21"
      ]
     },
     "execution_count": 46,
     "metadata": {},
     "output_type": "execute_result"
    }
   ],
   "source": [
    "next (f)"
   ]
  },
  {
   "cell_type": "code",
   "execution_count": 48,
   "id": "9c5a03b5",
   "metadata": {},
   "outputs": [],
   "source": [
    "# generator function\n",
    "def fib():\n",
    "    prev, curr = 0,1\n",
    "    while True:\n",
    "        yield curr\n",
    "        prev, curr = curr, prev + curr"
   ]
  },
  {
   "cell_type": "code",
   "execution_count": 49,
   "id": "fecf79d6",
   "metadata": {},
   "outputs": [],
   "source": [
    "gen = fib()"
   ]
  },
  {
   "cell_type": "code",
   "execution_count": 53,
   "id": "0da97aaa",
   "metadata": {},
   "outputs": [
    {
     "data": {
      "text/plain": [
       "3"
      ]
     },
     "execution_count": 53,
     "metadata": {},
     "output_type": "execute_result"
    }
   ],
   "source": [
    "next(gen)"
   ]
  },
  {
   "cell_type": "markdown",
   "id": "42961d00",
   "metadata": {},
   "source": [
    "### Generator Expression"
   ]
  },
  {
   "cell_type": "code",
   "execution_count": 57,
   "id": "93495505",
   "metadata": {},
   "outputs": [],
   "source": [
    "gen = (x**2 for x in range(1, 11))"
   ]
  },
  {
   "cell_type": "code",
   "execution_count": 60,
   "id": "8848348e",
   "metadata": {},
   "outputs": [
    {
     "data": {
      "text/plain": [
       "9"
      ]
     },
     "execution_count": 60,
     "metadata": {},
     "output_type": "execute_result"
    }
   ],
   "source": [
    "next(gen)"
   ]
  },
  {
   "cell_type": "code",
   "execution_count": null,
   "id": "d9bcde8d",
   "metadata": {},
   "outputs": [],
   "source": []
  }
 ],
 "metadata": {
  "kernelspec": {
   "display_name": "Python 3",
   "language": "python",
   "name": "python3"
  },
  "language_info": {
   "codemirror_mode": {
    "name": "ipython",
    "version": 3
   },
   "file_extension": ".py",
   "mimetype": "text/x-python",
   "name": "python",
   "nbconvert_exporter": "python",
   "pygments_lexer": "ipython3",
   "version": "3.6.13"
  }
 },
 "nbformat": 4,
 "nbformat_minor": 5
}
